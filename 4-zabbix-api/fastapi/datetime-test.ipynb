{
 "cells": [
  {
   "cell_type": "code",
   "execution_count": 1,
   "metadata": {},
   "outputs": [],
   "source": [
    "from datetime import datetime"
   ]
  },
  {
   "cell_type": "code",
   "execution_count": 2,
   "metadata": {},
   "outputs": [
    {
     "name": "stdout",
     "output_type": "stream",
     "text": [
      "2024-08-20 23:26:27.735126\n"
     ]
    }
   ],
   "source": [
    "print(datetime.now())"
   ]
  },
  {
   "cell_type": "code",
   "execution_count": 13,
   "metadata": {},
   "outputs": [
    {
     "name": "stdout",
     "output_type": "stream",
     "text": [
      "2024-04-05 00:00:00\n",
      "2024-04-5 21\n",
      "2024\n",
      "2024-08-20 23:34:43.248107\n"
     ]
    }
   ],
   "source": [
    "mydate = \"2024-04-5\"\n",
    "mydate = datetime.strptime(mydate, \"%Y-%m-%d\")\n",
    "print(mydate)\n",
    "\n",
    "\n",
    "mydate1 = \"2024-04-5 21\"\n",
    "mydate = datetime.strptime(mydate1, \"%Y-%m-%d %H\")\n",
    "print(mydate1)\n",
    "\n",
    "\n",
    "mydate2 = datetime.now()\n",
    "print(mydate2.year)\n",
    "print(mydate2)\n",
    "\n"
   ]
  }
 ],
 "metadata": {
  "kernelspec": {
   "display_name": "venv",
   "language": "python",
   "name": "python3"
  },
  "language_info": {
   "codemirror_mode": {
    "name": "ipython",
    "version": 3
   },
   "file_extension": ".py",
   "mimetype": "text/x-python",
   "name": "python",
   "nbconvert_exporter": "python",
   "pygments_lexer": "ipython3",
   "version": "3.11.5"
  }
 },
 "nbformat": 4,
 "nbformat_minor": 2
}
